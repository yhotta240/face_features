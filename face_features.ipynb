{
  "nbformat": 4,
  "nbformat_minor": 0,
  "metadata": {
    "colab": {
      "provenance": [],
      "authorship_tag": "ABX9TyPZum5JcdEiCqJugu5dHIij",
      "include_colab_link": true
    },
    "kernelspec": {
      "name": "python3",
      "display_name": "Python 3"
    },
    "language_info": {
      "name": "python"
    }
  },
  "cells": [
    {
      "cell_type": "markdown",
      "metadata": {
        "id": "view-in-github",
        "colab_type": "text"
      },
      "source": [
        "<a href=\"https://colab.research.google.com/github/yhotta240/face_features/blob/main/face_features.ipynb\" target=\"_parent\"><img src=\"https://colab.research.google.com/assets/colab-badge.svg\" alt=\"Open In Colab\"/></a>"
      ]
    },
    {
      "cell_type": "code",
      "source": [
        "#@title 1. パッケージインストール\n",
        "import cv2\n",
        "import matplotlib.pyplot as plt\n",
        "import sys\n",
        "import os\n",
        "from datetime import datetime\n",
        "\n",
        "from google.colab import files, drive\n",
        "from PIL import Image\n",
        "from IPython.display import display, HTML\n",
        "\n",
        "# パッケージの確認用関数\n",
        "def check_package(package_name):\n",
        "    try:\n",
        "        __import__(package_name)\n",
        "        print(f\"{package_name}： パッケージは正常にインポートされました。\")\n",
        "    except ImportError:\n",
        "        print(f\"{package_name}： パッケージのインポートに失敗しました。\")\n",
        "\n",
        "# インポートしたパッケージを確認\n",
        "packages_to_check = [\n",
        "    \"cv2\",\n",
        "    \"matplotlib\",\n",
        "    \"sys\",\n",
        "    \"os\",\n",
        "    \"datetime\",\n",
        "    \"google.colab\",\n",
        "    \"PIL\",\n",
        "    \"IPython\"\n",
        "]\n",
        "\n",
        "for package in packages_to_check:\n",
        "    check_package(package)\n",
        "\n",
        "!git clone https://github.com/yhotta240/face_features.git"
      ],
      "metadata": {
        "id": "73BOedr0q0cv",
        "cellView": "form"
      },
      "execution_count": null,
      "outputs": []
    },
    {
      "cell_type": "code",
      "source": [
        "#@title ドライブをマウント（任意）\n",
        "# Google Driveをマウントする\n",
        "drive_mount = False # @param {type:\"boolean\"}\n",
        "if drive_mount:\n",
        "  drive.mount('/content/drive')"
      ],
      "metadata": {
        "id": "LBaQU4FMw1F4",
        "cellView": "form"
      },
      "execution_count": null,
      "outputs": []
    },
    {
      "cell_type": "code",
      "source": [
        "#@title 2. 対象画像をアップロード(jpg, png)\n",
        "# 画像フォルダのパス\n",
        "%cd /content/face_features/\n",
        "images_folder = \"images\"\n",
        "# フォルダが存在しない場合は作成\n",
        "if not os.path.exists(images_folder):\n",
        "    os.makedirs(images_folder)\n",
        "%cd images\n",
        "uploaded = files.upload()"
      ],
      "metadata": {
        "cellView": "form",
        "id": "m4jKjE0-vZsk"
      },
      "execution_count": null,
      "outputs": []
    },
    {
      "cell_type": "code",
      "source": [
        "#@title 3. 対象画像を選ぶ\n",
        "# アップロードされた画像のファイル名を取得\n",
        "file_names = os.listdir(\"/content/face_features/images\")\n",
        "%cd /content/face_features/\n",
        "\n",
        "print(\"現在の画像のパス:\" + file_names[0])\n",
        "# images フォルダ内の画像ファイル名を取得\n",
        "image_files = [file for file in os.listdir(\"images\") if file.endswith((\".jpg\", \".png\", \".jpeg\"))]\n",
        "\n",
        "if len(file_names) > 0:\n",
        "    # プルダウンメニューのHTMLを生成\n",
        "    options = ''.join(f'<option value=\"{file}\">{file}</option>' for file in image_files)\n",
        "    dropdown_menu = f'<select id=\"image_select\">{options}</select>'\n",
        "    display(HTML(dropdown_menu))\n",
        "\n",
        "    # JavaScriptを使用して選択した画像のパスを取得するボタンを表示\n",
        "    display(HTML('''\n",
        "    <button onclick=\"setImagePath()\">選択した画像を設定</button>\n",
        "    <script>\n",
        "    function setImagePath() {\n",
        "        var selectElement = document.getElementById(\"image_select\");\n",
        "        var selectedImagePath = \"images/\" + selectElement.value;\n",
        "        google.colab.kernel.invokeFunction('notebook.set_image_path', [selectedImagePath], {});\n",
        "    }\n",
        "    </script>\n",
        "    '''))\n",
        "\n",
        "else:\n",
        "    print(\"アップロードされた画像がありません。\")\n",
        "\n",
        "# Python関数を定義して、選択した画像のパスを受け取る\n",
        "def set_image_path(selected_image_path):\n",
        "    global image_path\n",
        "    image_path = selected_image_path\n",
        "    print(\"選択された画像のパス:\", image_path)\n",
        "\n",
        "# Python関数を登録\n",
        "from google.colab import output\n",
        "output.register_callback('notebook.set_image_path', set_image_path)"
      ],
      "metadata": {
        "cellView": "form",
        "id": "vuVvseItruhS"
      },
      "execution_count": null,
      "outputs": []
    },
    {
      "cell_type": "code",
      "execution_count": null,
      "metadata": {
        "cellView": "form",
        "id": "xspm07zvgnj0"
      },
      "outputs": [],
      "source": [
        "#@title  4. 実行\n",
        "\n",
        "isResize = True # @param {type:\"boolean\"}\n",
        "width_size = 256 # @param {type:\"number\"}\n",
        "hight_size = 256 # @param {type:\"number\"}\n",
        "plt_axis = \"off\" # @param [\"off\", \"on\"]\n",
        "isOutputImage = True # @param {type:\"boolean\"}\n",
        "\n",
        "# initialize.pyの内容を更新する関数\n",
        "def update_initialize_py(image_path=\"images/sample.png\"):\n",
        "    content = f\"\"\"# initialize.py\n",
        "image_path = \"{image_path}\" # 入力画像のパス\n",
        "isResize = {isResize}\n",
        "width_size = {width_size}\n",
        "hight_size = {hight_size}\n",
        "isPlot = True\n",
        "plt_axis = \"{plt_axis}\"\n",
        "isOutputImage = {isOutputImage}\n",
        "\"\"\"\n",
        "\n",
        "    with open(\"initialize.py\", \"w\") as file:\n",
        "        file.write(content)\n",
        "\n",
        "# 関数を呼び出してinitialize.pyを更新\n",
        "update_initialize_py()\n",
        "\n",
        "!python /content/face_features/run.py"
      ]
    },
    {
      "cell_type": "markdown",
      "source": [
        "[GitHub](https://github.com/yhotta240/face_features)<br>\n",
        "<br>\n"
      ],
      "metadata": {
        "id": "JKZVj2odnbkf"
      }
    }
  ]
}